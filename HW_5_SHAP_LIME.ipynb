{
 "cells": [
  {
   "cell_type": "code",
   "execution_count": null,
   "id": "569bf2e2",
   "metadata": {},
   "outputs": [],
   "source": [
    "# run the single model file fitted on 9:4:6 split data\n",
    "\n",
    "# %run -i \"C:/Users/LL/Desktop/RPI/24_Spring/AMLF/HW_5_SHAP_LIME/Enet_NeuralNet_v2.ipynb\""
   ]
  },
  {
   "cell_type": "code",
   "execution_count": 3,
   "id": "524371e5",
   "metadata": {},
   "outputs": [],
   "source": [
    "import numpy as np\n",
    "import pandas as pd\n",
    "\n",
    "df = pd.read_csv('C:/users/LL/Documents/GitHub/AMLF_projects/data.csv')\n",
    "\n",
    "df = df.drop(columns = ['Unnamed: 0'])\n",
    "\n",
    "# According to note 30: \"Therefore, to predict returns at month t+1, we use most recent monthly characteristics at the end of month t.\" <br>\n",
    "# Hence, **shift return t+1 to serve as response: r(t+1)**.\n",
    "\n",
    "df['r(t+1)'] = df.groupby('permno')['return'].shift(-1)\n",
    "\n",
    "### handle missing data\n",
    "\n",
    "# According to note 30 (bottom of p 2248): \"Another issue is missing characteristics, which we replace with the cross-sectional median at each month for each stock, respectively.\" <br>\n",
    "# Hence, calculate monthly cross-sectional median for features: **'mom1m', 'mom12m', 'chmom', 'mom36m', 'turn', 'dolvol', 'idiovol', 'beta', 'betasq', 'ep', 'sp', 'agr', 'nincr'**.\n",
    "\n",
    "df_filled = df.copy()\n",
    "for feature in ['mom1m', 'mom12m', 'chmom', 'mom36m', 'turn', 'dolvol', 'idiovol', 'beta', 'betasq', 'ep', 'sp', 'agr', 'nincr']:\n",
    "    df_filled[feature] = df_filled.groupby('Date')[feature].transform(lambda x: x.fillna(x.median()))\n",
    "\n",
    "df_filled.isna().sum()\n",
    "\n",
    "df.loc[:, ['mom1m', 'mom12m', 'chmom', 'mom36m', 'turn', 'dolvol', 'idiovol', 'beta', 'betasq', 'ep', 'sp', 'agr', 'nincr']] = df_filled.loc[:,['mom1m', 'mom12m', 'chmom', 'mom36m', 'turn', 'dolvol', 'idiovol', 'beta', 'betasq', 'ep', 'sp', 'agr', 'nincr']]\n",
    "\n",
    "df['Date'] = pd.to_datetime(df['Date'])\n",
    "\n",
    "# Set the datetime column as index\n",
    "df.set_index('Date', inplace=True, drop = True)\n",
    "\n",
    "from sklearn.preprocessing import StandardScaler\n",
    "\n",
    "scaler = StandardScaler()\n",
    "\n",
    "df_scaled = scaler.fit_transform(df)\n",
    "\n",
    "df_scaled = pd.DataFrame(df_scaled, columns=df.columns)\n",
    "\n",
    "\n",
    "permno = df['permno'].reset_index(drop = True)\n",
    "\n",
    "df_scaled['permno'] = permno\n",
    "\n",
    "df_scaled.index = df.index\n",
    "\n",
    "df_scaled_2 = df_scaled.drop(columns = [ 'permno', 'return'])\n",
    "\n",
    "\n",
    "### split data\n",
    "\n",
    "##split training, validation, and testing datasets\n",
    "\n",
    "#training : validation : testing = 6 yr : 4yr : 9 yr <br>\n",
    "#Also drop the first and last month due to the absence of r(t+1) and return(t-1)\n",
    "\n",
    "training = df_scaled_2[:'2007-01-01'].dropna()\n",
    "validation = df_scaled_2['2007-01-01':'2011-01-01']\n",
    "testing = df_scaled_2['2011-01-01':].dropna()\n",
    "\n",
    "training_combined = df_scaled_2[:'2011-01-01'].dropna()\n",
    "\n",
    "\n",
    "##separate X and y\n",
    "\n",
    "X_train = training.drop(columns = ['r(t+1)'])\n",
    "y_train = training['r(t+1)']\n",
    "\n",
    "X_val = validation.drop(columns = ['r(t+1)'])\n",
    "y_val = validation['r(t+1)']\n",
    "\n",
    "X_test = testing.drop(columns = ['r(t+1)'])\n",
    "y_test = testing['r(t+1)']\n",
    "\n",
    "X_train_combined = training_combined.drop(columns = ['r(t+1)'])\n",
    "y_train_combined = training_combined['r(t+1)']"
   ]
  },
  {
   "cell_type": "code",
   "execution_count": 4,
   "id": "876eb7f0",
   "metadata": {},
   "outputs": [
    {
     "name": "stdout",
     "output_type": "stream",
     "text": [
      "WARNING:tensorflow:From C:\\Users\\LL\\anaconda3\\Lib\\site-packages\\keras\\src\\losses.py:2976: The name tf.losses.sparse_softmax_cross_entropy is deprecated. Please use tf.compat.v1.losses.sparse_softmax_cross_entropy instead.\n",
      "\n"
     ]
    }
   ],
   "source": [
    "import keras\n",
    "from keras import layers\n",
    "from keras import Sequential\n",
    "\n",
    "## performance metric\n",
    "\n",
    "# Out-of-sample R^2. (r2_score_wo_demeaning)\n",
    "\n",
    "import tensorflow as tf\n",
    "\n",
    "def r2_score_wo_demeaning_nn(y_true, y_pred):\n",
    "    ss_res = tf.reduce_sum(tf.square(y_true - y_pred))\n",
    "    ss_tot = tf.reduce_sum(tf.square(y_true - 0))\n",
    "    r2 = 1 - (ss_res / ss_tot)\n",
    "    return r2\n",
    "\n",
    "\n",
    "## tuning custom function for neural net\n",
    "\n",
    "def compile_and_tune_model(model, parameter_dicts, x_train, y_train, x_val, y_val):\n",
    "    results = []\n",
    "    \n",
    "    for params in parameter_dicts:\n",
    "\n",
    "        model.compile(optimizer=keras.optimizers.Adam(learning_rate=params['learning_rate']),\n",
    "                      loss='mean_squared_error', metrics=r2_score_wo_demeaning_nn)  # Using mean absolute error (mae) as metric\n",
    "        \n",
    "        history = model.fit(x_train, y_train, epochs=params['epoch'], batch_size=params['batch_size'],\n",
    "                            validation_data=(x_val, y_val), verbose=0)\n",
    "        \n",
    "        # Get the metric value for the last epoch\n",
    "        last_epoch_metric = history.history['r2_score_wo_demeaning_nn'][-1]  # Validation MAE for last epoch\n",
    "        \n",
    "        # Store results for current parameter set\n",
    "        results.append({'params': params, 'val_r2_score_wo_demeaning_nn': last_epoch_metric})\n",
    "    \n",
    "    return results"
   ]
  },
  {
   "cell_type": "code",
   "execution_count": 5,
   "id": "894c3a76",
   "metadata": {},
   "outputs": [],
   "source": [
    "## NN\n",
    "\n",
    "# All activation functions are ReLU function <br>\n",
    "# optimizer: SGD w/ learning rate shrinkage: adam <br>\n",
    "\n",
    "# convert dataframes to numpy array\n",
    "\n",
    "X_train_nn = np.asarray(X_train.values)\n",
    "y_train_nn = np.asarray(y_train.values)\n",
    "\n",
    "X_val_nn = np.asarray(X_val.values)\n",
    "y_val_nn = np.asarray(y_val.values)\n",
    "\n",
    "X_test_nn = np.asarray(X_test.values)\n",
    "y_test_nn = np.asarray(y_test.values)\n",
    "\n",
    "X_train_combined_nn = np.asarray(X_train_combined.values)\n",
    "y_train_combined_nn = np.asarray(y_train_combined.values)\n",
    "\n",
    "# set-up grid\n",
    "\n",
    "nepoch_val = [25, 50, 75, 100]\n",
    "lr_val = [0.05, 0.01, 0.001]\n",
    "nbatch_val = [1500, 2500, 3500]\n",
    "\n",
    "param_nn = [{'epoch': epoch, 'learning_rate': learning_rate, 'batch_size': batch_size} for epoch in nepoch_val for learning_rate in lr_val for batch_size in nbatch_val]"
   ]
  },
  {
   "cell_type": "code",
   "execution_count": 7,
   "id": "e7df4d15",
   "metadata": {},
   "outputs": [
    {
     "name": "stdout",
     "output_type": "stream",
     "text": [
      "WARNING:tensorflow:From C:\\Users\\LL\\anaconda3\\Lib\\site-packages\\keras\\src\\backend.py:873: The name tf.get_default_graph is deprecated. Please use tf.compat.v1.get_default_graph instead.\n",
      "\n",
      "WARNING:tensorflow:From C:\\Users\\LL\\anaconda3\\Lib\\site-packages\\keras\\src\\utils\\tf_utils.py:492: The name tf.ragged.RaggedTensorValue is deprecated. Please use tf.compat.v1.ragged.RaggedTensorValue instead.\n",
      "\n",
      "WARNING:tensorflow:From C:\\Users\\LL\\anaconda3\\Lib\\site-packages\\keras\\src\\engine\\base_layer_utils.py:384: The name tf.executing_eagerly_outside_functions is deprecated. Please use tf.compat.v1.executing_eagerly_outside_functions instead.\n",
      "\n"
     ]
    },
    {
     "data": {
      "text/plain": [
       "-0.04292283207178116"
      ]
     },
     "execution_count": 7,
     "metadata": {},
     "output_type": "execute_result"
    }
   ],
   "source": [
    "### 3-layer\n",
    "\n",
    "input_dim = 20\n",
    "layer1_n = 32\n",
    "layer2_n = 16\n",
    "layer3_n = 8\n",
    "\n",
    "\n",
    "model_3 = Sequential([\n",
    "            layers.Dense(layer1_n, input_dim = input_dim, activation='relu'),\n",
    "            layers.Dense(layer2_n, activation='relu'),\n",
    "            layers.Dense(layer3_n, activation='relu'),\n",
    "            layers.Dense(1, activation='linear')\n",
    "        ])\n",
    "\n",
    "\n",
    "## tuning\n",
    "\n",
    "result_nn3 = compile_and_tune_model(model_3, param_nn, X_train_nn, y_train_nn, X_val_nn, y_val_nn)\n",
    "\n",
    "result_nn3\n",
    "\n",
    "\n",
    "## best model**<br>\n",
    "\n",
    "# best parameters\n",
    "\n",
    "result_nn3 = pd.DataFrame(result_nn3).sort_values('val_r2_score_wo_demeaning_nn',ascending=False)\n",
    "opt_score = result_nn3.iloc[0,1]\n",
    "opt_para = result_nn3.iloc[0,0]\n",
    "\n",
    "result_nn3.iloc[0,1]\n",
    "\n",
    "result_nn3.iloc[0,0]\n",
    "\n",
    "# best model\n",
    "\n",
    "model_nn3 = Sequential([\n",
    "            layers.Dense(layer1_n, activation='relu', input_dim=input_dim),\n",
    "            layers.Dense(1, activation='linear')\n",
    "        ])\n",
    "\n",
    "model_nn3.compile(optimizer=keras.optimizers.Adam(learning_rate=opt_para['learning_rate']),\n",
    "                      loss='mean_squared_error', metrics=r2_score_wo_demeaning_nn)\n",
    "\n",
    "history = model_nn3.fit(X_train_combined_nn, y_train_combined_nn, epochs=opt_para['epoch'], batch_size=opt_para['batch_size'],\n",
    "                            validation_data=(X_test_nn, y_test_nn), verbose=0)\n",
    "        \n",
    "last_epoch_metric = history.history['val_r2_score_wo_demeaning_nn'][-1]\n",
    "\n",
    "\n",
    "last_epoch_metric"
   ]
  },
  {
   "cell_type": "code",
   "execution_count": null,
   "id": "bdae65e1",
   "metadata": {},
   "outputs": [],
   "source": []
  },
  {
   "cell_type": "markdown",
   "id": "7be7aeab",
   "metadata": {},
   "source": [
    "## HW 5"
   ]
  },
  {
   "cell_type": "markdown",
   "id": "abd360f8",
   "metadata": {},
   "source": [
    "sort data"
   ]
  },
  {
   "cell_type": "code",
   "execution_count": null,
   "id": "b5e79bc2",
   "metadata": {},
   "outputs": [],
   "source": []
  },
  {
   "cell_type": "code",
   "execution_count": null,
   "id": "1a770190",
   "metadata": {},
   "outputs": [],
   "source": []
  },
  {
   "cell_type": "code",
   "execution_count": null,
   "id": "6434f58b",
   "metadata": {},
   "outputs": [],
   "source": []
  },
  {
   "cell_type": "code",
   "execution_count": null,
   "id": "57609ff2",
   "metadata": {},
   "outputs": [],
   "source": []
  },
  {
   "cell_type": "code",
   "execution_count": null,
   "id": "078431c0",
   "metadata": {},
   "outputs": [],
   "source": []
  },
  {
   "cell_type": "code",
   "execution_count": null,
   "id": "445979ea",
   "metadata": {},
   "outputs": [],
   "source": []
  },
  {
   "cell_type": "code",
   "execution_count": null,
   "id": "cfc296bf",
   "metadata": {},
   "outputs": [],
   "source": []
  }
 ],
 "metadata": {
  "kernelspec": {
   "display_name": "Python 3 (ipykernel)",
   "language": "python",
   "name": "python3"
  },
  "language_info": {
   "codemirror_mode": {
    "name": "ipython",
    "version": 3
   },
   "file_extension": ".py",
   "mimetype": "text/x-python",
   "name": "python",
   "nbconvert_exporter": "python",
   "pygments_lexer": "ipython3",
   "version": "3.11.5"
  }
 },
 "nbformat": 4,
 "nbformat_minor": 5
}
